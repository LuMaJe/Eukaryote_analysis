{
 "cells": [
  {
   "cell_type": "markdown",
   "metadata": {},
   "source": [
    "# Questions to find from this dataset\n",
    "---\n",
    "### a. How many genomes are there for each kingdom? And how many unique species names? (EXAMPLE)\n",
    "### b. Make a new dataframe with just rows of *Aquila* genus? (EXAMPLE)\n",
    "### c. In which assembly status are the most insect genomes? And the most amphibian genomes? (EXAMPLE)\n",
    "### d. Which genomes have at least 10% more proteins than genes? (EXAMPLE)\n",
    "---\n",
    "### 1. How many species were added each year? Is there a pattern?\n",
    "### 2. Which class has the most amount of intergenic DNA?\n",
    "### 3. Which organisms have genomes roughly the same length as humans? (+ or - 20% only)\n",
    "### 4. Which kingdom has the most/least amount of completed genomes?\n",
    "### 5. What is the most common assembly status for each year in the last 10 years (of the years recorded)? \n",
    "### 6. What is the pattern of intergenic DNA amongst the kingdoms?\n",
    "### 7. \n",
    "### 8.\n",
    "### 9.\n",
    "### 10.\n",
    "### 11."
   ]
  },
  {
   "cell_type": "code",
   "execution_count": 2,
   "metadata": {},
   "outputs": [
    {
     "data": {
      "text/html": [
       "<div>\n",
       "<style scoped>\n",
       "    .dataframe tbody tr th:only-of-type {\n",
       "        vertical-align: middle;\n",
       "    }\n",
       "\n",
       "    .dataframe tbody tr th {\n",
       "        vertical-align: top;\n",
       "    }\n",
       "\n",
       "    .dataframe thead th {\n",
       "        text-align: right;\n",
       "    }\n",
       "</style>\n",
       "<table border=\"1\" class=\"dataframe\">\n",
       "  <thead>\n",
       "    <tr style=\"text-align: right;\">\n",
       "      <th></th>\n",
       "      <th>Species</th>\n",
       "      <th>Kingdom</th>\n",
       "      <th>Class</th>\n",
       "      <th>Size (Mb)</th>\n",
       "      <th>GC%</th>\n",
       "      <th>Number of genes</th>\n",
       "      <th>Number of proteins</th>\n",
       "      <th>Publication year</th>\n",
       "      <th>Assembly status</th>\n",
       "    </tr>\n",
       "  </thead>\n",
       "  <tbody>\n",
       "    <tr>\n",
       "      <th>0</th>\n",
       "      <td>Emiliania huxleyi CCMP1516</td>\n",
       "      <td>Protists</td>\n",
       "      <td>Other Protists</td>\n",
       "      <td>167.676</td>\n",
       "      <td>64.5000</td>\n",
       "      <td>38549</td>\n",
       "      <td>38554</td>\n",
       "      <td>2013</td>\n",
       "      <td>Scaffold</td>\n",
       "    </tr>\n",
       "    <tr>\n",
       "      <th>1</th>\n",
       "      <td>Arabidopsis thaliana</td>\n",
       "      <td>Plants</td>\n",
       "      <td>Land Plants</td>\n",
       "      <td>119.669</td>\n",
       "      <td>36.0529</td>\n",
       "      <td>38311</td>\n",
       "      <td>48265</td>\n",
       "      <td>2001</td>\n",
       "      <td>Chromosome</td>\n",
       "    </tr>\n",
       "    <tr>\n",
       "      <th>2</th>\n",
       "      <td>Glycine max</td>\n",
       "      <td>Plants</td>\n",
       "      <td>Land Plants</td>\n",
       "      <td>979.046</td>\n",
       "      <td>35.1153</td>\n",
       "      <td>59847</td>\n",
       "      <td>71219</td>\n",
       "      <td>2010</td>\n",
       "      <td>Chromosome</td>\n",
       "    </tr>\n",
       "    <tr>\n",
       "      <th>3</th>\n",
       "      <td>Medicago truncatula</td>\n",
       "      <td>Plants</td>\n",
       "      <td>Land Plants</td>\n",
       "      <td>412.924</td>\n",
       "      <td>34.0470</td>\n",
       "      <td>37603</td>\n",
       "      <td>41939</td>\n",
       "      <td>2011</td>\n",
       "      <td>Chromosome</td>\n",
       "    </tr>\n",
       "    <tr>\n",
       "      <th>4</th>\n",
       "      <td>Solanum lycopersicum</td>\n",
       "      <td>Plants</td>\n",
       "      <td>Land Plants</td>\n",
       "      <td>828.349</td>\n",
       "      <td>35.6991</td>\n",
       "      <td>31200</td>\n",
       "      <td>37660</td>\n",
       "      <td>2010</td>\n",
       "      <td>Chromosome</td>\n",
       "    </tr>\n",
       "  </tbody>\n",
       "</table>\n",
       "</div>"
      ],
      "text/plain": [
       "                      Species   Kingdom           Class  Size (Mb)      GC%  \\\n",
       "0  Emiliania huxleyi CCMP1516  Protists  Other Protists    167.676  64.5000   \n",
       "1        Arabidopsis thaliana    Plants     Land Plants    119.669  36.0529   \n",
       "2                 Glycine max    Plants     Land Plants    979.046  35.1153   \n",
       "3         Medicago truncatula    Plants     Land Plants    412.924  34.0470   \n",
       "4        Solanum lycopersicum    Plants     Land Plants    828.349  35.6991   \n",
       "\n",
       "   Number of genes  Number of proteins  Publication year Assembly status  \n",
       "0            38549               38554              2013        Scaffold  \n",
       "1            38311               48265              2001      Chromosome  \n",
       "2            59847               71219              2010      Chromosome  \n",
       "3            37603               41939              2011      Chromosome  \n",
       "4            31200               37660              2010      Chromosome  "
      ]
     },
     "execution_count": 2,
     "metadata": {},
     "output_type": "execute_result"
    }
   ],
   "source": [
    "import pandas as pd\n",
    "import matplotlib.pyplot as plt\n",
    "import seaborn as sns\n",
    "\n",
    "my_types = {\n",
    "    'Species': 'string',\n",
    "    'Kingdom': 'string',\n",
    "    'Class': 'string',\n",
    "    'Assembly status': 'string',\n",
    "    'Number of genes': 'Int64',\n",
    "    'Number of proteins': 'Int64',\n",
    "}\n",
    "\n",
    "euk = pd.read_csv('eukaryotes.tsv', sep='\\t', na_values=['-'], dtype=my_types)\n",
    "\n",
    "euk.head()"
   ]
  },
  {
   "cell_type": "code",
   "execution_count": 3,
   "metadata": {},
   "outputs": [
    {
     "name": "stdout",
     "output_type": "stream",
     "text": [
      "<class 'pandas.core.frame.DataFrame'>\n",
      "RangeIndex: 8302 entries, 0 to 8301\n",
      "Data columns (total 9 columns):\n",
      " #   Column              Non-Null Count  Dtype  \n",
      "---  ------              --------------  -----  \n",
      " 0   Species             8302 non-null   string \n",
      " 1   Kingdom             8302 non-null   string \n",
      " 2   Class               8302 non-null   string \n",
      " 3   Size (Mb)           8302 non-null   float64\n",
      " 4   GC%                 7895 non-null   float64\n",
      " 5   Number of genes     2372 non-null   Int64  \n",
      " 6   Number of proteins  2371 non-null   Int64  \n",
      " 7   Publication year    8302 non-null   int64  \n",
      " 8   Assembly status     8302 non-null   string \n",
      "dtypes: Int64(2), float64(2), int64(1), string(4)\n",
      "memory usage: 600.1 KB\n"
     ]
    }
   ],
   "source": [
    "euk.info()"
   ]
  },
  {
   "cell_type": "markdown",
   "metadata": {},
   "source": [
    "## a. How many genomes are there for each kingdom? And how many unique species names? (EXAMPLE)"
   ]
  },
  {
   "cell_type": "code",
   "execution_count": 4,
   "metadata": {},
   "outputs": [
    {
     "name": "stdout",
     "output_type": "stream",
     "text": [
      "The number of species in each kingdom is \n",
      "Fungi       4494\n",
      "Animals     2181\n",
      "Plants       870\n",
      "Protists     727\n",
      "Other         30\n",
      "Name: Kingdom, dtype: Int64\n",
      "\n",
      "The Protists kingdom has 449 unique species.\n",
      "The Plants kingdom has 464 unique species.\n",
      "The Fungi kingdom has 2554 unique species.\n",
      "The Animals kingdom has 1442 unique species.\n",
      "The Other kingdom has 27 unique species.\n"
     ]
    }
   ],
   "source": [
    "kingdom_count = euk['Kingdom'].value_counts()\n",
    "print(f'The number of species in each kingdom is \\n{kingdom_count}\\n')\n",
    "\n",
    "for kingdom in euk['Kingdom'].unique():\n",
    "    unique_count = len(euk[euk['Kingdom'] == kingdom]['Species'].unique())\n",
    "    print(f'The {kingdom} kingdom has {unique_count} unique species.')\n",
    "\n",
    "# ADD IN BARPLOT? TO SHOW NUMBERS OF EACH CATEGORY"
   ]
  },
  {
   "cell_type": "markdown",
   "metadata": {},
   "source": [
    "## b. Make a new dataframe with just rows of Aquila genus? (EXAMPLE)"
   ]
  },
  {
   "cell_type": "code",
   "execution_count": 5,
   "metadata": {},
   "outputs": [
    {
     "data": {
      "text/html": [
       "<div>\n",
       "<style scoped>\n",
       "    .dataframe tbody tr th:only-of-type {\n",
       "        vertical-align: middle;\n",
       "    }\n",
       "\n",
       "    .dataframe tbody tr th {\n",
       "        vertical-align: top;\n",
       "    }\n",
       "\n",
       "    .dataframe thead th {\n",
       "        text-align: right;\n",
       "    }\n",
       "</style>\n",
       "<table border=\"1\" class=\"dataframe\">\n",
       "  <thead>\n",
       "    <tr style=\"text-align: right;\">\n",
       "      <th></th>\n",
       "      <th>Species</th>\n",
       "      <th>Kingdom</th>\n",
       "      <th>Class</th>\n",
       "      <th>Size (Mb)</th>\n",
       "      <th>GC%</th>\n",
       "      <th>Number of genes</th>\n",
       "      <th>Number of proteins</th>\n",
       "      <th>Publication year</th>\n",
       "      <th>Assembly status</th>\n",
       "      <th>Genus</th>\n",
       "    </tr>\n",
       "  </thead>\n",
       "  <tbody>\n",
       "    <tr>\n",
       "      <th>1755</th>\n",
       "      <td>Aquila chrysaetos canadensis</td>\n",
       "      <td>Animals</td>\n",
       "      <td>Birds</td>\n",
       "      <td>1192.74</td>\n",
       "      <td>41.9001</td>\n",
       "      <td>17520</td>\n",
       "      <td>31284</td>\n",
       "      <td>2014</td>\n",
       "      <td>Scaffold</td>\n",
       "      <td>Aquila</td>\n",
       "    </tr>\n",
       "    <tr>\n",
       "      <th>4388</th>\n",
       "      <td>Aquila chrysaetos canadensis</td>\n",
       "      <td>Animals</td>\n",
       "      <td>Birds</td>\n",
       "      <td>1548.48</td>\n",
       "      <td>43.5000</td>\n",
       "      <td>&lt;NA&gt;</td>\n",
       "      <td>&lt;NA&gt;</td>\n",
       "      <td>2014</td>\n",
       "      <td>Scaffold</td>\n",
       "      <td>Aquila</td>\n",
       "    </tr>\n",
       "    <tr>\n",
       "      <th>5342</th>\n",
       "      <td>Aquila chrysaetos chrysaetos</td>\n",
       "      <td>Animals</td>\n",
       "      <td>Birds</td>\n",
       "      <td>1228.51</td>\n",
       "      <td>42.2000</td>\n",
       "      <td>&lt;NA&gt;</td>\n",
       "      <td>&lt;NA&gt;</td>\n",
       "      <td>2018</td>\n",
       "      <td>Scaffold</td>\n",
       "      <td>Aquila</td>\n",
       "    </tr>\n",
       "  </tbody>\n",
       "</table>\n",
       "</div>"
      ],
      "text/plain": [
       "                           Species  Kingdom  Class  Size (Mb)      GC%  \\\n",
       "1755  Aquila chrysaetos canadensis  Animals  Birds    1192.74  41.9001   \n",
       "4388  Aquila chrysaetos canadensis  Animals  Birds    1548.48  43.5000   \n",
       "5342  Aquila chrysaetos chrysaetos  Animals  Birds    1228.51  42.2000   \n",
       "\n",
       "      Number of genes  Number of proteins  Publication year Assembly status  \\\n",
       "1755            17520               31284              2014        Scaffold   \n",
       "4388             <NA>                <NA>              2014        Scaffold   \n",
       "5342             <NA>                <NA>              2018        Scaffold   \n",
       "\n",
       "       Genus  \n",
       "1755  Aquila  \n",
       "4388  Aquila  \n",
       "5342  Aquila  "
      ]
     },
     "execution_count": 5,
     "metadata": {},
     "output_type": "execute_result"
    }
   ],
   "source": [
    "euk['Genus'] = euk['Species'].str.split(' ').str[0]\n",
    "\n",
    "aquila_df = euk[euk['Genus'] == 'Aquila']\n",
    "aquila_df"
   ]
  },
  {
   "cell_type": "markdown",
   "metadata": {},
   "source": [
    "## c. In which assembly status are the most insect genomes? And the most amphibian genomes? (EXAMPLE)"
   ]
  },
  {
   "cell_type": "code",
   "execution_count": 6,
   "metadata": {},
   "outputs": [
    {
     "name": "stdout",
     "output_type": "stream",
     "text": [
      "The insects are in the following assembly statuses: \n",
      "Scaffold      497\n",
      "Contig         55\n",
      "Chromosome     50\n",
      "Name: Assembly status, dtype: Int64\n",
      "\n",
      "The amphibians are in the following assembly statuses: \n",
      "Scaffold      3\n",
      "Chromosome    3\n",
      "Contig        1\n",
      "Name: Assembly status, dtype: Int64\n"
     ]
    }
   ],
   "source": [
    "insects = euk[euk['Class'] == 'Insects']\n",
    "a_status_insects = insects['Assembly status'].value_counts()\n",
    "\n",
    "amphib = euk[euk['Class'] == 'Amphibians']\n",
    "a_status_amphib = amphib['Assembly status'].value_counts()\n",
    "\n",
    "\n",
    "print(f'The insects are in the following assembly statuses: \\n{a_status_insects}\\n')\n",
    "print(f'The amphibians are in the following assembly statuses: \\n{a_status_amphib}')\n"
   ]
  },
  {
   "cell_type": "markdown",
   "metadata": {},
   "source": [
    "## d. Which genomes have at least 10% more proteins than genes? (EXAMPLE)"
   ]
  },
  {
   "cell_type": "code",
   "execution_count": 7,
   "metadata": {},
   "outputs": [
    {
     "data": {
      "text/html": [
       "<div>\n",
       "<style scoped>\n",
       "    .dataframe tbody tr th:only-of-type {\n",
       "        vertical-align: middle;\n",
       "    }\n",
       "\n",
       "    .dataframe tbody tr th {\n",
       "        vertical-align: top;\n",
       "    }\n",
       "\n",
       "    .dataframe thead th {\n",
       "        text-align: right;\n",
       "    }\n",
       "</style>\n",
       "<table border=\"1\" class=\"dataframe\">\n",
       "  <thead>\n",
       "    <tr style=\"text-align: right;\">\n",
       "      <th></th>\n",
       "      <th>Species</th>\n",
       "      <th>Kingdom</th>\n",
       "      <th>Class</th>\n",
       "      <th>Size (Mb)</th>\n",
       "      <th>GC%</th>\n",
       "      <th>Number of genes</th>\n",
       "      <th>Number of proteins</th>\n",
       "      <th>Publication year</th>\n",
       "      <th>Assembly status</th>\n",
       "      <th>Genus</th>\n",
       "    </tr>\n",
       "  </thead>\n",
       "  <tbody>\n",
       "    <tr>\n",
       "      <th>1</th>\n",
       "      <td>Arabidopsis thaliana</td>\n",
       "      <td>Plants</td>\n",
       "      <td>Land Plants</td>\n",
       "      <td>119.669000</td>\n",
       "      <td>36.0529</td>\n",
       "      <td>38311</td>\n",
       "      <td>48265</td>\n",
       "      <td>2001</td>\n",
       "      <td>Chromosome</td>\n",
       "      <td>Arabidopsis</td>\n",
       "    </tr>\n",
       "    <tr>\n",
       "      <th>2</th>\n",
       "      <td>Glycine max</td>\n",
       "      <td>Plants</td>\n",
       "      <td>Land Plants</td>\n",
       "      <td>979.046000</td>\n",
       "      <td>35.1153</td>\n",
       "      <td>59847</td>\n",
       "      <td>71219</td>\n",
       "      <td>2010</td>\n",
       "      <td>Chromosome</td>\n",
       "      <td>Glycine</td>\n",
       "    </tr>\n",
       "    <tr>\n",
       "      <th>3</th>\n",
       "      <td>Medicago truncatula</td>\n",
       "      <td>Plants</td>\n",
       "      <td>Land Plants</td>\n",
       "      <td>412.924000</td>\n",
       "      <td>34.0470</td>\n",
       "      <td>37603</td>\n",
       "      <td>41939</td>\n",
       "      <td>2011</td>\n",
       "      <td>Chromosome</td>\n",
       "      <td>Medicago</td>\n",
       "    </tr>\n",
       "    <tr>\n",
       "      <th>4</th>\n",
       "      <td>Solanum lycopersicum</td>\n",
       "      <td>Plants</td>\n",
       "      <td>Land Plants</td>\n",
       "      <td>828.349000</td>\n",
       "      <td>35.6991</td>\n",
       "      <td>31200</td>\n",
       "      <td>37660</td>\n",
       "      <td>2010</td>\n",
       "      <td>Chromosome</td>\n",
       "      <td>Solanum</td>\n",
       "    </tr>\n",
       "    <tr>\n",
       "      <th>6</th>\n",
       "      <td>Oryza sativa Japonica Group</td>\n",
       "      <td>Plants</td>\n",
       "      <td>Land Plants</td>\n",
       "      <td>374.423000</td>\n",
       "      <td>43.5769</td>\n",
       "      <td>35219</td>\n",
       "      <td>42580</td>\n",
       "      <td>2015</td>\n",
       "      <td>Chromosome</td>\n",
       "      <td>Oryza</td>\n",
       "    </tr>\n",
       "    <tr>\n",
       "      <th>...</th>\n",
       "      <td>...</td>\n",
       "      <td>...</td>\n",
       "      <td>...</td>\n",
       "      <td>...</td>\n",
       "      <td>...</td>\n",
       "      <td>...</td>\n",
       "      <td>...</td>\n",
       "      <td>...</td>\n",
       "      <td>...</td>\n",
       "      <td>...</td>\n",
       "    </tr>\n",
       "    <tr>\n",
       "      <th>6487</th>\n",
       "      <td>Fusarium oxysporum f. sp. melonis 26406</td>\n",
       "      <td>Fungi</td>\n",
       "      <td>Ascomycetes</td>\n",
       "      <td>54.034300</td>\n",
       "      <td>47.5000</td>\n",
       "      <td>20030</td>\n",
       "      <td>26719</td>\n",
       "      <td>2012</td>\n",
       "      <td>Scaffold</td>\n",
       "      <td>Fusarium</td>\n",
       "    </tr>\n",
       "    <tr>\n",
       "      <th>6523</th>\n",
       "      <td>Fusarium oxysporum Fo47</td>\n",
       "      <td>Fungi</td>\n",
       "      <td>Ascomycetes</td>\n",
       "      <td>49.664600</td>\n",
       "      <td>47.7000</td>\n",
       "      <td>18553</td>\n",
       "      <td>24818</td>\n",
       "      <td>2012</td>\n",
       "      <td>Scaffold</td>\n",
       "      <td>Fusarium</td>\n",
       "    </tr>\n",
       "    <tr>\n",
       "      <th>6626</th>\n",
       "      <td>Arabidopsis thaliana</td>\n",
       "      <td>Plants</td>\n",
       "      <td>Land Plants</td>\n",
       "      <td>93.654500</td>\n",
       "      <td>36.0433</td>\n",
       "      <td>16842</td>\n",
       "      <td>20111</td>\n",
       "      <td>2000</td>\n",
       "      <td>Chromosome</td>\n",
       "      <td>Arabidopsis</td>\n",
       "    </tr>\n",
       "    <tr>\n",
       "      <th>6781</th>\n",
       "      <td>Mus musculus</td>\n",
       "      <td>Animals</td>\n",
       "      <td>Mammals</td>\n",
       "      <td>3251.250000</td>\n",
       "      <td>41.8306</td>\n",
       "      <td>31682</td>\n",
       "      <td>45437</td>\n",
       "      <td>2005</td>\n",
       "      <td>Chromosome</td>\n",
       "      <td>Mus</td>\n",
       "    </tr>\n",
       "    <tr>\n",
       "      <th>8298</th>\n",
       "      <td>Saccharomyces cerevisiae</td>\n",
       "      <td>Fungi</td>\n",
       "      <td>Ascomycetes</td>\n",
       "      <td>0.586761</td>\n",
       "      <td>38.5921</td>\n",
       "      <td>155</td>\n",
       "      <td>298</td>\n",
       "      <td>1992</td>\n",
       "      <td>Chromosome</td>\n",
       "      <td>Saccharomyces</td>\n",
       "    </tr>\n",
       "  </tbody>\n",
       "</table>\n",
       "<p>547 rows × 10 columns</p>\n",
       "</div>"
      ],
      "text/plain": [
       "                                      Species  Kingdom        Class  \\\n",
       "1                        Arabidopsis thaliana   Plants  Land Plants   \n",
       "2                                 Glycine max   Plants  Land Plants   \n",
       "3                         Medicago truncatula   Plants  Land Plants   \n",
       "4                        Solanum lycopersicum   Plants  Land Plants   \n",
       "6                 Oryza sativa Japonica Group   Plants  Land Plants   \n",
       "...                                       ...      ...          ...   \n",
       "6487  Fusarium oxysporum f. sp. melonis 26406    Fungi  Ascomycetes   \n",
       "6523                  Fusarium oxysporum Fo47    Fungi  Ascomycetes   \n",
       "6626                     Arabidopsis thaliana   Plants  Land Plants   \n",
       "6781                             Mus musculus  Animals      Mammals   \n",
       "8298                 Saccharomyces cerevisiae    Fungi  Ascomycetes   \n",
       "\n",
       "        Size (Mb)      GC%  Number of genes  Number of proteins  \\\n",
       "1      119.669000  36.0529            38311               48265   \n",
       "2      979.046000  35.1153            59847               71219   \n",
       "3      412.924000  34.0470            37603               41939   \n",
       "4      828.349000  35.6991            31200               37660   \n",
       "6      374.423000  43.5769            35219               42580   \n",
       "...           ...      ...              ...                 ...   \n",
       "6487    54.034300  47.5000            20030               26719   \n",
       "6523    49.664600  47.7000            18553               24818   \n",
       "6626    93.654500  36.0433            16842               20111   \n",
       "6781  3251.250000  41.8306            31682               45437   \n",
       "8298     0.586761  38.5921              155                 298   \n",
       "\n",
       "      Publication year Assembly status          Genus  \n",
       "1                 2001      Chromosome    Arabidopsis  \n",
       "2                 2010      Chromosome        Glycine  \n",
       "3                 2011      Chromosome       Medicago  \n",
       "4                 2010      Chromosome        Solanum  \n",
       "6                 2015      Chromosome          Oryza  \n",
       "...                ...             ...            ...  \n",
       "6487              2012        Scaffold       Fusarium  \n",
       "6523              2012        Scaffold       Fusarium  \n",
       "6626              2000      Chromosome    Arabidopsis  \n",
       "6781              2005      Chromosome            Mus  \n",
       "8298              1992      Chromosome  Saccharomyces  \n",
       "\n",
       "[547 rows x 10 columns]"
      ]
     },
     "execution_count": 7,
     "metadata": {},
     "output_type": "execute_result"
    }
   ],
   "source": [
    "euk[euk['Number of proteins'] >= (euk['Number of genes']*1.1)]"
   ]
  },
  {
   "cell_type": "markdown",
   "metadata": {},
   "source": [
    "## 1. How many species were added each year? Is there a pattern?"
   ]
  },
  {
   "cell_type": "code",
   "execution_count": 8,
   "metadata": {},
   "outputs": [
    {
     "name": "stdout",
     "output_type": "stream",
     "text": [
      "Top five years of number of species added to the database: \n",
      "2018    2389\n",
      "2016    1229\n",
      "2017    1207\n",
      "2015     890\n",
      "2019     670\n",
      "Name: Publication year, dtype: int64\n"
     ]
    },
    {
     "data": {
      "image/png": "[encoded data removed]",
      "text/plain": [
       "<Figure size 720x576 with 1 Axes>"
      ]
     },
     "metadata": {
      "needs_background": "light"
     },
     "output_type": "display_data"
    }
   ],
   "source": [
    "yearly_pubs = euk['Publication year'].dropna()\n",
    "\n",
    "plt.figure(figsize=(10,8))\n",
    "sns.histplot(yearly_pubs, bins=30)\n",
    "plt.title('Number of species added to the database each year.')\n",
    "\n",
    "print(f'Top five years of number of species added to the database: \\n{yearly_pubs.value_counts()[:5]}')\n"
   ]
  },
  {
   "cell_type": "markdown",
   "metadata": {},
   "source": [
    "## 2. Which class has the most amount of intergenic DNA?"
   ]
  },
  {
   "cell_type": "code",
   "execution_count": 9,
   "metadata": {},
   "outputs": [
    {
     "data": {
      "text/plain": [
       "Text(0.5, 1.0, 'Relationship between \\nGenome length vs Gene-to-length percentage')"
      ]
     },
     "execution_count": 9,
     "metadata": {},
     "output_type": "execute_result"
    },
    {
     "data": {
      "text/plain": [
       "<Figure size 720x576 with 0 Axes>"
      ]
     },
     "metadata": {},
     "output_type": "display_data"
    },
    {
     "data": {
      "image/png": "[encoded data removed]",
      "text/plain": [
       "<Figure size 580x504 with 1 Axes>"
      ]
     },
     "metadata": {
      "needs_background": "light"
     },
     "output_type": "display_data"
    }
   ],
   "source": [
    "euk['Size'] = (euk['Size (Mb)'])*1000000\n",
    "euk['Size'] = euk['Size'].astype('int64')\n",
    "euk['Gene to length %'] = (euk['Number of genes'])/(euk['Size'])*100\n",
    "\n",
    "euk['Size'].describe()\n",
    "\n",
    "plt.figure(figsize=(10,8))\n",
    "\n",
    "sns.relplot(data=euk[euk['Size'] < 4*10**9], x='Gene to length %', y='Size (Mb)', hue='Kingdom', height=7)\n",
    "plt.title('Relationship between \\nGenome length vs Gene-to-length percentage', pad=20)"
   ]
  },
  {
   "cell_type": "markdown",
   "metadata": {},
   "source": [
    "## 3. Which organisms have genomes roughly the same length as humans? (+ or - 20% only)"
   ]
  },
  {
   "cell_type": "code",
   "execution_count": 10,
   "metadata": {},
   "outputs": [
    {
     "name": "stdout",
     "output_type": "stream",
     "text": [
      "The mean human genome length is: 401918437 bases long.\n",
      "There are 189 different genus with genomes within 20% of the human genome.\n",
      "\n",
      "The unique genus names are: \n",
      "['Medicago' 'Oryza' 'Glossina' 'Takifugu' 'Bombyx' 'Lotus' 'Populus'\n",
      " 'Gasterosteus' 'Tetraodon' 'Nematostella' 'Schistosoma' 'Ancylostoma'\n",
      " 'Physcomitrella' 'Lolium' 'Erythranthe' 'Carica' 'Theobroma' 'Ricinus'\n",
      " 'Vigna' 'Oesophagostomum' 'Melitaea' 'Daucus' 'Varroa' 'Acropora'\n",
      " 'Anopheles' 'Ceratitis' 'Myzus' 'Solenopsis' 'Harpegnathos' 'Percopsis'\n",
      " 'Lota' 'Merlangius' 'Acanthaster' 'Trachyrincus' 'Aurelia' 'Boreogadus'\n",
      " 'Arctogadus' 'Trifolium' 'Pollachius' 'Merluccius' 'Cucumis' 'Citrus'\n",
      " 'Dunaliella' 'Bactrocera' 'Gadus' 'Heliothis' 'Phaseolus' 'Bicyclus'\n",
      " 'Musa' 'Setaria' 'Brassica' 'Phlebotomus' 'Nippostrongylus' 'Plutella'\n",
      " 'Betula' 'Persea' 'Cynoglossus' 'Zeugodacus' 'Manduca' 'Stylophora'\n",
      " 'Vaccinium' 'Branchiostoma' 'Pomacea' 'Lucilia' 'Helicoverpa'\n",
      " 'Heliconius' 'Erigeron' 'Agrilus' 'Fagus' 'Macleaya' 'Raphanus'\n",
      " 'Anemonia' 'Sarcophaga' 'Ananas' 'Pachypsylla' 'Spodoptera' 'Ensete'\n",
      " 'Ephemera' 'Boehmeria' 'Lasioglossum' 'Lottia' 'Capitella' 'Ziziphus'\n",
      " 'Calliphora' 'Thlaspi' 'Asymmetron' 'Eurytemora' 'Trichoplusia'\n",
      " 'Schizaphis' 'Ostrinia' 'Romanomermis' 'Pampus' 'Diuraphis' 'Pungitius'\n",
      " 'Dioscorea' 'Papilio' 'Betta' 'Gongylonema' 'Wasmannia' 'Caligus'\n",
      " 'Ephydra' 'Mochlonyx' 'Condylostylus' 'Cirrula' 'Megaselia' 'Tephritis'\n",
      " 'Lingula' 'Amyelois' 'Ocimum' 'Plodia' 'Diachasma' 'Oryctes' 'Galleria'\n",
      " 'Eutrema' 'Arabis' 'Vitis' 'Trachymyrmex' 'Zoysia' 'Mentha' 'Chenopodium'\n",
      " 'Corchorus' 'Kappaphycus' 'Psidium' 'Tropilaelaps' 'Neruda'\n",
      " 'Holacanthella' 'Pereskia' 'Lepidotrigona' 'Cicer' 'Apostasia'\n",
      " 'Parasponia' 'Trema' 'Haematococcus' 'Vanessa' 'Cassiopea' 'Mora'\n",
      " 'Paykullia' 'Osmerus' 'Borostomias' 'Melanonus' 'Muraenolepis'\n",
      " 'Bathygadus' 'Macrourus' 'Malacocephalus' 'Phycis' 'Molva' 'Brosme'\n",
      " 'Trisopterus' 'Gadiculus' 'Aphaenogaster' 'Carapus' 'Antennarius'\n",
      " 'Cuscuta' 'Porites' 'Nissolia' 'Chamaecrista' 'Begonia' 'Cercis' 'Sipha'\n",
      " 'Ipomoea' 'Torymus' 'Eupelmus' 'Mucuna' 'Echium' 'Harmonia' 'Megathymus'\n",
      " 'Rhopalosiphum' 'Nomia' 'Abrus' 'Sinella' 'Oikopleura' 'Bathochordaeus'\n",
      " 'Amynthas' 'Opisthorchis' 'Punica' 'Teleopsis' 'Toxocara' 'Melanogrammus'\n",
      " 'Phoenix' 'Manihot' 'Ambystoma' 'Lagenaria' 'Sesamum' 'Triticum'\n",
      " 'Rotaria' 'Arabidopsis' 'Beta' 'Plasmopara' 'Rattus']\n"
     ]
    }
   ],
   "source": [
    "humans = euk[euk['Species'] == 'Homo sapiens']\n",
    "mean_human_genome_length = round(euk['Size'].mean())\n",
    "print(f'The mean human genome length is: {mean_human_genome_length} bases long.')\n",
    "\n",
    "close_to_human = euk[(euk['Size'] <= mean_human_genome_length*1.2) & (euk['Size'] >= mean_human_genome_length*0.8)]\n",
    "\n",
    "close_to_human\n",
    "\n",
    "approx_human_list = close_to_human['Genus'].unique()\n",
    "\n",
    "print(f'There are {len(approx_human_list)} different genus with genomes within 20% of the human genome.\\n')\n",
    "print(f'The unique genus names are: \\n{approx_human_list}')\n",
    "\n",
    "# sns.relplot(data=close_to_human, x=)\n"
   ]
  },
  {
   "cell_type": "markdown",
   "metadata": {},
   "source": [
    "## 4. Which kingdom has the most/least amount of completed genomes?"
   ]
  },
  {
   "cell_type": "code",
   "execution_count": 11,
   "metadata": {},
   "outputs": [
    {
     "name": "stdout",
     "output_type": "stream",
     "text": [
      "The Protists kingdom has the following assembly statuses: 7\n",
      "\n",
      "The Plants kingdom has the following assembly statuses: 2\n",
      "\n",
      "The Fungi kingdom has the following assembly statuses: 50\n",
      "\n",
      "The Animals kingdom has the following assembly statuses: 1\n",
      "\n",
      "The Other kingdom has the following assembly statuses: 1\n",
      "\n"
     ]
    }
   ],
   "source": [
    "kingdoms = euk['Kingdom'].unique()\n",
    "\n",
    "for king in kingdoms:\n",
    "    filtered = euk[euk['Kingdom'] == king]\n",
    "    complete_count = len(filtered[filtered['Assembly status'] == 'Complete Genome'])\n",
    "    print(f'The {king} kingdom has the following assembly statuses: {complete_count}\\n')"
   ]
  },
  {
   "cell_type": "markdown",
   "metadata": {},
   "source": [
    "## 5. What is the most common assembly status for each year in the last 5 years (of the years recorded)?"
   ]
  },
  {
   "cell_type": "code",
   "execution_count": 19,
   "metadata": {},
   "outputs": [
    {
     "data": {
      "text/plain": [
       "<seaborn.axisgrid.FacetGrid at 0x1ed2e519640>"
      ]
     },
     "execution_count": 19,
     "metadata": {},
     "output_type": "execute_result"
    },
    {
     "data": {
      "image/png": "[encoded data removed]",
      "text/plain": [
       "<Figure size 1208.88x720 with 5 Axes>"
      ]
     },
     "metadata": {
      "needs_background": "light"
     },
     "output_type": "display_data"
    }
   ],
   "source": [
    "latest_year = euk['Publication year'].max()\n",
    "earliest_year = latest_year - 4\n",
    "\n",
    "prev_5 = euk[(euk['Publication year'] >= earliest_year) & (euk['Publication year'] <= latest_year)]\n",
    "\n",
    "years = sorted(prev_5['Publication year'].unique().tolist())\n",
    "\n",
    "prev_5\n",
    "\n",
    "sns.catplot(\n",
    "            data = prev_5[prev_5['Size (Mb)'] < 5000],\n",
    "            x = 'Kingdom',\n",
    "            y = 'Size (Mb)',\n",
    "            hue = 'Assembly status',\n",
    "            hue_order = ['Contig', 'Scaffold', 'Chromosome', 'Complete Genome'],\n",
    "            col = 'Publication year',\n",
    "            col_wrap = 3,\n",
    ")\n",
    "\n",
    "# status_dict = {}\n",
    "# status_list = prev_5['Assembly status'].unique()\n",
    "# for year in years:\n",
    "#     status_dict[year] = 0\n",
    "\n",
    "\n",
    "# for year in years:\n",
    "#     sep_year = prev_5[prev_5['Publication year'] == year]\n",
    "#     max_status_level = 0\n",
    "#     max_status = ''\n",
    "#     for status in status_list:\n",
    "#         common_count = len(sep_year[sep_year['Assembly status'] == status])\n",
    "#         if common_count > max_status_level:\n",
    "#             max_status_level = common_count\n",
    "#             max_status = status\n",
    "#     status_dict[year] = (status, max_status_level)\n",
    "\n",
    "# status_dict\n",
    "\n",
    "# Not correct!! Figure this out!!"
   ]
  }
 ],
 "metadata": {
  "kernelspec": {
   "display_name": "Python 3",
   "language": "python",
   "name": "python3"
  },
  "language_info": {
   "codemirror_mode": {
    "name": "ipython",
    "version": 3
   },
   "file_extension": ".py",
   "mimetype": "text/x-python",
   "name": "python",
   "nbconvert_exporter": "python",
   "pygments_lexer": "ipython3",
   "version": "3.8.3"
  }
 },
 "nbformat": 4,
 "nbformat_minor": 4
}
